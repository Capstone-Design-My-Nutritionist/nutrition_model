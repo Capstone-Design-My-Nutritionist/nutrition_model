{
 "cells": [
  {
   "cell_type": "code",
   "execution_count": 1,
   "id": "1e1a2cfd-a5c7-4a97-8d49-152cabebebc7",
   "metadata": {},
   "outputs": [
    {
     "data": {
      "text/plain": [
       "'\\n설문 조사에서 \\n- 복용약 여부 ( Y/N)\\n- 복용약 종류 (one-hot)\\n- 영양제 여부 (Y/N)\\n- 영양제 종류 (one-hot)\\n- 질환 여부 (Y/N)\\n- 질환 종류 (one-hot)\\n- 가족력 (Y/N)\\n- 가족력 질환 (one-hot)\\n- 건강문제 (ont-hot)\\n- 개선목표 (one-hot)\\n- 수면시간 (one-hot)\\n- 운동빈도 (one-hot)\\n- 식사횟수 (one-hot)\\n- 채소과일빈도 (one-hot)\\n- 물섭취 (one-hot)\\n- 음주 (one-hot)\\n- 흡연 (one-hot) \\n'"
      ]
     },
     "execution_count": 1,
     "metadata": {},
     "output_type": "execute_result"
    }
   ],
   "source": [
    "'''\n",
    "설문 조사에서 \n",
    "- 복용약 여부 ( Y/N)\n",
    "- 복용약 종류 (one-hot)\n",
    "- 영양제 여부 (Y/N)\n",
    "- 영양제 종류 (one-hot)\n",
    "- 질환 여부 (Y/N)\n",
    "- 질환 종류 (one-hot)\n",
    "- 가족력 (Y/N)\n",
    "- 가족력 질환 (one-hot)\n",
    "- 건강문제 (ont-hot)\n",
    "- 개선목표 (one-hot)\n",
    "- 수면시간 (one-hot)\n",
    "- 운동빈도 (one-hot)\n",
    "- 식사횟수 (one-hot)\n",
    "- 채소과일빈도 (one-hot)\n",
    "- 물섭취 (one-hot)\n",
    "- 음주 (one-hot)\n",
    "- 흡연 (one-hot) \n",
    "'''\n"
   ]
  },
  {
   "cell_type": "code",
   "execution_count": 2,
   "id": "346fae85-5e7e-4955-bca7-ac06027c5796",
   "metadata": {},
   "outputs": [],
   "source": [
    "import pandas as pd\n",
    "from sqlalchemy import create_engine\n",
    "from sklearn.preprocessing import MinMaxScaler\n",
    "import tensorflow as tf\n",
    "from tensorflow.keras.layers import Input, Dense, Dropout, Concatenate\n",
    "from tensorflow.keras.models import Model"
   ]
  },
  {
   "cell_type": "code",
   "execution_count": 3,
   "id": "a394f083-ede7-456a-abae-5dcfe27d332f",
   "metadata": {},
   "outputs": [
    {
     "name": "stdout",
     "output_type": "stream",
     "text": [
      "Requirement already satisfied: sqlalchemy in /Library/Frameworks/Python.framework/Versions/3.12/lib/python3.12/site-packages (2.0.31)\n",
      "Collecting pymysql\n",
      "  Downloading PyMySQL-1.1.1-py3-none-any.whl.metadata (4.4 kB)\n",
      "Requirement already satisfied: pandas in /Library/Frameworks/Python.framework/Versions/3.12/lib/python3.12/site-packages (2.2.2)\n",
      "Requirement already satisfied: typing-extensions>=4.6.0 in /Library/Frameworks/Python.framework/Versions/3.12/lib/python3.12/site-packages (from sqlalchemy) (4.12.2)\n",
      "Requirement already satisfied: numpy>=1.26.0 in /Library/Frameworks/Python.framework/Versions/3.12/lib/python3.12/site-packages (from pandas) (1.26.4)\n",
      "Requirement already satisfied: python-dateutil>=2.8.2 in /Library/Frameworks/Python.framework/Versions/3.12/lib/python3.12/site-packages (from pandas) (2.9.0.post0)\n",
      "Requirement already satisfied: pytz>=2020.1 in /Library/Frameworks/Python.framework/Versions/3.12/lib/python3.12/site-packages (from pandas) (2024.1)\n",
      "Requirement already satisfied: tzdata>=2022.7 in /Library/Frameworks/Python.framework/Versions/3.12/lib/python3.12/site-packages (from pandas) (2024.1)\n",
      "Requirement already satisfied: six>=1.5 in /Library/Frameworks/Python.framework/Versions/3.12/lib/python3.12/site-packages (from python-dateutil>=2.8.2->pandas) (1.16.0)\n",
      "Downloading PyMySQL-1.1.1-py3-none-any.whl (44 kB)\n",
      "Installing collected packages: pymysql\n",
      "Successfully installed pymysql-1.1.1\n",
      "Note: you may need to restart the kernel to use updated packages.\n"
     ]
    }
   ],
   "source": [
    "pip install sqlalchemy pymysql pandas"
   ]
  },
  {
   "cell_type": "code",
   "execution_count": 47,
   "id": "a9055b7a-88b1-45af-a151-88891858abe8",
   "metadata": {},
   "outputs": [],
   "source": [
    "from sqlalchemy import create_engine, text\n",
    "\n",
    "# 1) 커넥션 설정 (Spring Boot 설정과 동일)\n",
    "ENGINE = create_engine(\n",
    "    \"mysql+pymysql://admin:myNutrition\"\n",
    "    \"@mynutritiondb.czccwgs04ahh.ap-northeast-2.rds.amazonaws.com\"\n",
    "    \":3306/muNutrition_db?charset=utf8mb4\"\n",
    ")"
   ]
  },
  {
   "cell_type": "code",
   "execution_count": 15,
   "id": "fd448bea-6486-4445-95f7-b60ad3cf7b0c",
   "metadata": {},
   "outputs": [
    {
     "name": "stdout",
     "output_type": "stream",
     "text": [
      "   survey_id taking_medication taking_supplements has_diagnosed_disease  \\\n",
      "0          2           b'\\x00'            b'\\x01'               b'\\x00'   \n",
      "\n",
      "  has_family_history has_allergy  gender sleep_time exercise_frequency  \\\n",
      "0            b'\\x00'     b'\\x00'  FEMALE                     LIGHT_1_3   \n",
      "\n",
      "   meal_count  ... water_intake        drinking     smoking      med_types  \\\n",
      "0           2  ...     UNDER_1L  ONE_TWO_WEEKLY  NON_SMOKER  ANTICOAGULANT   \n",
      "\n",
      "  supp_types disease_types family_diseases allergy_types concerns health_goals  \n",
      "0       None          None            None          None     None         None  \n",
      "\n",
      "[1 rows x 21 columns]\n"
     ]
    }
   ],
   "source": [
    "import pandas as pd\n",
    "from sqlalchemy import create_engine, text\n",
    "\n",
    "# 1) 커넥션 설정 (Spring Boot 설정과 동일)\n",
    "ENGINE = create_engine(\n",
    "    \"mysql+pymysql://admin:myNutrition\"\n",
    "    \"@mynutritiondb.czccwgs04ahh.ap-northeast-2.rds.amazonaws.com\"\n",
    "    \":3306/muNutrition_db?charset=utf8mb4\"\n",
    ")\n",
    "\n",
    "# 2) survey 메인 + 매핑 테이블 LEFT JOIN (SQL)\n",
    "sql = \"\"\"\n",
    "SELECT\n",
    "  s.id AS survey_id,\n",
    "  s.taking_medication,\n",
    "  s.taking_supplements,\n",
    "  s.has_diagnosed_disease,\n",
    "  s.has_family_history,\n",
    "  s.has_allergy,\n",
    "  s.gender,\n",
    "  s.sleep_time,\n",
    "  s.exercise_frequency,\n",
    "  s.meal_count,\n",
    "  s.vegetable_fruit_intake,\n",
    "  s.water_intake,\n",
    "  s.drinking,\n",
    "  s.smoking,\n",
    "\n",
    "  -- 일대다 관계에서 ARRAY_AGG 로 묶기 (MySQL 8 이상)\n",
    "  GROUP_CONCAT(DISTINCT sm.medication)       AS med_types,\n",
    "  GROUP_CONCAT(DISTINCT ss.supplement)       AS supp_types,\n",
    "  GROUP_CONCAT(DISTINCT sd.disease)          AS disease_types,\n",
    "  GROUP_CONCAT(DISTINCT sfh.disease)  AS family_diseases,\n",
    "  GROUP_CONCAT(DISTINCT sal.allergy)         AS allergy_types,\n",
    "  GROUP_CONCAT(DISTINCT sc.concern)          AS concerns,\n",
    "  GROUP_CONCAT(DISTINCT shg.goal)            AS health_goals\n",
    "\n",
    "FROM survey s\n",
    "LEFT JOIN survey_medication sm ON sm.survey_id = s.id\n",
    "LEFT JOIN survey_supplement ss ON ss.survey_id = s.id\n",
    "LEFT JOIN survey_disease    sd ON sd.survey_id = s.id\n",
    "LEFT JOIN survey_family_history sfh ON sfh.survey_id = s.id\n",
    "LEFT JOIN survey_allergy    sal ON sal.survey_id = s.id\n",
    "LEFT JOIN survey_concern    sc  ON sc.survey_id = s.id\n",
    "LEFT JOIN survey_goal shg ON shg.survey_id = s.id\n",
    "\n",
    "WHERE s.completed = TRUE\n",
    "GROUP BY s.id\n",
    "\"\"\"\n",
    "\n",
    "df_survey = pd.read_sql_query(text(sql), ENGINE)\n",
    "\n",
    "print(df_survey)"
   ]
  },
  {
   "cell_type": "code",
   "execution_count": 17,
   "id": "0a159cf5-ab7f-4891-87de-396d38b9bacc",
   "metadata": {},
   "outputs": [],
   "source": [
    "bool_cols = [\n",
    "    'taking_medication',\n",
    "    'taking_supplements',\n",
    "    'has_diagnosed_disease',\n",
    "    'has_family_history',\n",
    "    'has_allergy'\n",
    "]\n",
    "\n",
    "# ENUM 컬럼(문자열) 목록\n",
    "enum_cols = [\n",
    "    'gender',\n",
    "    'sleep_time',\n",
    "    'exercise_frequency',\n",
    "    'vegetable_fruit_intake',\n",
    "    'water_intake',\n",
    "    'drinking',\n",
    "    'smoking'\n",
    "]\n",
    "# One-hot 인코딩\n",
    "df_enum = pd.get_dummies(df_survey[enum_cols], prefix_sep='=')"
   ]
  },
  {
   "cell_type": "code",
   "execution_count": 18,
   "id": "f7d666e7-74fa-4d3d-8c00-d91b4f65a072",
   "metadata": {},
   "outputs": [],
   "source": [
    "multi_cols = [\n",
    "    'med_types',        # GROUP_CONCAT AS med_types\n",
    "    'supp_types',\n",
    "    'disease_types',\n",
    "    'family_diseases',\n",
    "    'allergy_types',\n",
    "    'concerns',\n",
    "    'health_goals'\n",
    "]\n",
    "\n",
    "# 1) 문자열 → 리스트\n",
    "for c in multi_cols:\n",
    "    df_survey[c] = df_survey[c].fillna('').str.split(',')\n",
    "\n",
    "# 2) explode → get_dummies → groupby.max\n",
    "df_ex = df_survey.copy()\n",
    "for c in multi_cols:\n",
    "    df_ex = df_ex.explode(c)\n",
    "\n",
    "df_multi = pd.get_dummies(df_ex, columns=multi_cols, prefix_sep='=')\n",
    "# survey_id 별로 합치기\n",
    "df_multi = df_multi.groupby('survey_id').max().drop(columns=bool_cols+enum_cols, errors='ignore')"
   ]
  },
  {
   "cell_type": "code",
   "execution_count": 19,
   "id": "580cdf66-3a5e-4730-ad0a-d50f4781d1b3",
   "metadata": {},
   "outputs": [
    {
     "name": "stdout",
     "output_type": "stream",
     "text": [
      "▶ Wide dimension: 20\n"
     ]
    }
   ],
   "source": [
    "# 인덱스를 survey_id 로\n",
    "df_bool = df_survey.set_index('survey_id')[bool_cols]\n",
    "df_wide  = pd.concat([df_bool, df_enum.set_index(df_survey.index), df_multi], axis=1).fillna(0)\n",
    "\n",
    "wide_data = df_wide.values\n",
    "wide_dim  = wide_data.shape[1]\n",
    "print(\"▶ Wide dimension:\", wide_dim)"
   ]
  },
  {
   "cell_type": "markdown",
   "id": "b64fc983-e1af-440f-8afb-29d2739dfed2",
   "metadata": {},
   "source": [
    "### Deep - 영양성분"
   ]
  },
  {
   "cell_type": "code",
   "execution_count": 77,
   "id": "96e3921b-da2e-47a7-ad64-addd16972f15",
   "metadata": {},
   "outputs": [
    {
     "name": "stdout",
     "output_type": "stream",
     "text": [
      "✅ nutrition_info에 메타 정보 포함 모두 업로드 완료\n"
     ]
    }
   ],
   "source": [
    "import pandas as pd\n",
    "from sqlalchemy import create_engine\n",
    "#1) 커넥션 설정 (Spring Boot 설정과 동일)\n",
    "ENGINE = create_engine(\n",
    "    \"mysql+pymysql://admin:myNutrition\"\n",
    "    \"@mynutritiondb.czccwgs04ahh.ap-northeast-2.rds.amazonaws.com\"\n",
    "    \":3306/muNutrition_db?charset=utf8mb4\"\n",
    ")\n",
    "\n",
    "df = pd.read_csv('cleaned_nutrition_data.csv', encoding='utf-8')\n",
    "\n",
    "# 한글 컬럼명을 DB 컬럼명(영문 스네이크케이스)으로 매핑\n",
    "df = df.rename(columns={\n",
    "    '식품명':               'food_name',\n",
    "    '대표식품명':           'rep_food_name',\n",
    "    '영양성분함량기준량':   'nutrition_standard_amount',\n",
    "    '식품중량':             'serving_size',\n",
    "    '에너지(kcal)':         'energy_kcal',\n",
    "    '단백질(g)':           'protein_g',\n",
    "    '지방(g)':             'fat_g',\n",
    "    '탄수화물(g)':         'carbohydrate_g',\n",
    "    '당류(g)':             'sugar_g',\n",
    "    '식이섬유(g)':         'dietary_fiber_g',\n",
    "    '칼슘(mg)':            'calcium_mg',\n",
    "    '철(mg)':              'iron_mg',\n",
    "    '나트륨(mg)':          'sodium_mg',\n",
    "    '비타민 A(μg RAE)':    'vitamin_a_rae_ug',\n",
    "    '비타민 B(mg RDA)':    'vitamin_b_rda_mg',\n",
    "    '비타민 C(mg)':        'vitamin_c_mg',\n",
    "    '비타민 D(μg)':        'vitamin_d_ug',\n",
    "    '콜레스테롤(mg)':      'cholesterol_mg',\n",
    "    '포화지방산(g)':       'saturated_fat_g',\n",
    "    '트랜스지방산(g)':     'trans_fat_g',\n",
    "})\n",
    "\n",
    "# nutrition_info 테이블에 삽입\n",
    "with engine.begin() as conn:\n",
    "    df.to_sql(\n",
    "        'food_nutrition',\n",
    "        con=ENGINE,\n",
    "        if_exists='append',\n",
    "        index=False,\n",
    "        method='multi',\n",
    "        chunksize=500\n",
    "    )\n",
    "print(\"✅ nutrition_info에 메타 정보 포함 모두 업로드 완료\")"
   ]
  },
  {
   "cell_type": "code",
   "execution_count": 78,
   "id": "0f63219e-b824-4617-bd4e-c01f4e384d8f",
   "metadata": {},
   "outputs": [
    {
     "name": "stdout",
     "output_type": "stream",
     "text": [
      "CSV 전체 행 개수: 12485\n",
      "     cnt\n",
      "0  14584\n"
     ]
    }
   ],
   "source": [
    "df = pd.read_csv('filtered_data.csv', encoding='utf-8')\n",
    "# 한글 컬럼명을 DB 컬럼명(영문 스네이크케이스)으로 매핑\n",
    "\n",
    "print(\"CSV 전체 행 개수:\", df.shape[0])\n",
    "\n",
    "cnt = pd.read_sql_query(\"SELECT COUNT(*) AS cnt FROM food_nutrition\", ENGINE)\n",
    "print(cnt)"
   ]
  },
  {
   "cell_type": "code",
   "execution_count": 93,
   "id": "f198125e-f21a-48ee-9edd-af313a43aa02",
   "metadata": {
    "scrolled": true
   },
   "outputs": [
    {
     "name": "stdout",
     "output_type": "stream",
     "text": [
      "Deep input dimension: 15\n"
     ]
    }
   ],
   "source": [
    "# 2) nutrition_info 에 저장된 영양성분 컬럼 리스트 (영어 컬럼명)\n",
    "deep_cols = [\n",
    "    'protein_g',        # 단백질(g)\n",
    "    'fat_g',            # 지방(g)\n",
    "    'carbohydrate_g',   # 탄수화물(g)\n",
    "    'sugar_g',          # 당류(g)\n",
    "    'dietary_fiber_g',  # 식이섬유(g)\n",
    "    'calcium_mg',       # 칼슘(mg)\n",
    "    'iron_mg',          # 철(mg)\n",
    "    'sodium_mg',        # 나트륨(mg)\n",
    "    'vitamin_a_rae_ug', # 비타민 A(μg RAE)\n",
    "    'vitamin_b_rda_mg', # 비타민 B(mg RDA)\n",
    "    'vitamin_c_mg',     # 비타민 C(mg)\n",
    "    'vitamin_d_ug',     # 비타민 D(μg)\n",
    "    'cholesterol_mg',   # 콜레스테롤(mg)\n",
    "    'saturated_fat_g',  # 포화지방산(g)\n",
    "    'trans_fat_g'       # 트랜스지방산(g)\n",
    "]\n",
    "\n",
    "# 3) food_nutrtion 테이블에서 deep_cols 만 읽어오기\n",
    "df_nutri = pd.read_sql_query(\n",
    "    \"SELECT id, \" + \",\".join(deep_cols) +\n",
    "    \" FROM food_nutrition\",\n",
    "    ENGINE\n",
    ").set_index('id')\n",
    "\n",
    "# 4) 숫자형으로 강제 변환 & 결측치는 0으로 채우기\n",
    "df_nutri = df_nutri.astype(float).fillna(0.0)\n",
    "\n",
    "# 5) Min–Max 정규화 (0~1)\n",
    "scaler   = MinMaxScaler()\n",
    "deep_data = scaler.fit_transform(df_nutri[deep_cols])\n",
    "deep_dim  = deep_data.shape[1]\n",
    "\n",
    "print(f\"Deep input dimension: {deep_dim}\")  # => 24"
   ]
  },
  {
   "cell_type": "code",
   "execution_count": 80,
   "id": "161f187f-8cb7-41e1-9022-9ea81132482b",
   "metadata": {},
   "outputs": [
    {
     "data": {
      "text/html": [
       "<pre style=\"white-space:pre;overflow-x:auto;line-height:normal;font-family:Menlo,'DejaVu Sans Mono',consolas,'Courier New',monospace\"><span style=\"font-weight: bold\">Model: \"functional_1\"</span>\n",
       "</pre>\n"
      ],
      "text/plain": [
       "\u001b[1mModel: \"functional_1\"\u001b[0m\n"
      ]
     },
     "metadata": {},
     "output_type": "display_data"
    },
    {
     "data": {
      "text/html": [
       "<pre style=\"white-space:pre;overflow-x:auto;line-height:normal;font-family:Menlo,'DejaVu Sans Mono',consolas,'Courier New',monospace\">┏━━━━━━━━━━━━━━━━━━━━━┳━━━━━━━━━━━━━━━━━━━┳━━━━━━━━━━━━┳━━━━━━━━━━━━━━━━━━━┓\n",
       "┃<span style=\"font-weight: bold\"> Layer (type)        </span>┃<span style=\"font-weight: bold\"> Output Shape      </span>┃<span style=\"font-weight: bold\">    Param # </span>┃<span style=\"font-weight: bold\"> Connected to      </span>┃\n",
       "┡━━━━━━━━━━━━━━━━━━━━━╇━━━━━━━━━━━━━━━━━━━╇━━━━━━━━━━━━╇━━━━━━━━━━━━━━━━━━━┩\n",
       "│ deep_input          │ (<span style=\"color: #00d7ff; text-decoration-color: #00d7ff\">None</span>, <span style=\"color: #00af00; text-decoration-color: #00af00\">16</span>)        │          <span style=\"color: #00af00; text-decoration-color: #00af00\">0</span> │ -                 │\n",
       "│ (<span style=\"color: #0087ff; text-decoration-color: #0087ff\">InputLayer</span>)        │                   │            │                   │\n",
       "├─────────────────────┼───────────────────┼────────────┼───────────────────┤\n",
       "│ dense_6 (<span style=\"color: #0087ff; text-decoration-color: #0087ff\">Dense</span>)     │ (<span style=\"color: #00d7ff; text-decoration-color: #00d7ff\">None</span>, <span style=\"color: #00af00; text-decoration-color: #00af00\">64</span>)        │      <span style=\"color: #00af00; text-decoration-color: #00af00\">1,088</span> │ deep_input[<span style=\"color: #00af00; text-decoration-color: #00af00\">0</span>][<span style=\"color: #00af00; text-decoration-color: #00af00\">0</span>]  │\n",
       "├─────────────────────┼───────────────────┼────────────┼───────────────────┤\n",
       "│ dropout_2 (<span style=\"color: #0087ff; text-decoration-color: #0087ff\">Dropout</span>) │ (<span style=\"color: #00d7ff; text-decoration-color: #00d7ff\">None</span>, <span style=\"color: #00af00; text-decoration-color: #00af00\">64</span>)        │          <span style=\"color: #00af00; text-decoration-color: #00af00\">0</span> │ dense_6[<span style=\"color: #00af00; text-decoration-color: #00af00\">0</span>][<span style=\"color: #00af00; text-decoration-color: #00af00\">0</span>]     │\n",
       "├─────────────────────┼───────────────────┼────────────┼───────────────────┤\n",
       "│ dense_7 (<span style=\"color: #0087ff; text-decoration-color: #0087ff\">Dense</span>)     │ (<span style=\"color: #00d7ff; text-decoration-color: #00d7ff\">None</span>, <span style=\"color: #00af00; text-decoration-color: #00af00\">32</span>)        │      <span style=\"color: #00af00; text-decoration-color: #00af00\">2,080</span> │ dropout_2[<span style=\"color: #00af00; text-decoration-color: #00af00\">0</span>][<span style=\"color: #00af00; text-decoration-color: #00af00\">0</span>]   │\n",
       "├─────────────────────┼───────────────────┼────────────┼───────────────────┤\n",
       "│ wide_input          │ (<span style=\"color: #00d7ff; text-decoration-color: #00d7ff\">None</span>, <span style=\"color: #00af00; text-decoration-color: #00af00\">20</span>)        │          <span style=\"color: #00af00; text-decoration-color: #00af00\">0</span> │ -                 │\n",
       "│ (<span style=\"color: #0087ff; text-decoration-color: #0087ff\">InputLayer</span>)        │                   │            │                   │\n",
       "├─────────────────────┼───────────────────┼────────────┼───────────────────┤\n",
       "│ dense_8 (<span style=\"color: #0087ff; text-decoration-color: #0087ff\">Dense</span>)     │ (<span style=\"color: #00d7ff; text-decoration-color: #00d7ff\">None</span>, <span style=\"color: #00af00; text-decoration-color: #00af00\">16</span>)        │        <span style=\"color: #00af00; text-decoration-color: #00af00\">528</span> │ dense_7[<span style=\"color: #00af00; text-decoration-color: #00af00\">0</span>][<span style=\"color: #00af00; text-decoration-color: #00af00\">0</span>]     │\n",
       "├─────────────────────┼───────────────────┼────────────┼───────────────────┤\n",
       "│ concatenate_2       │ (<span style=\"color: #00d7ff; text-decoration-color: #00d7ff\">None</span>, <span style=\"color: #00af00; text-decoration-color: #00af00\">36</span>)        │          <span style=\"color: #00af00; text-decoration-color: #00af00\">0</span> │ wide_input[<span style=\"color: #00af00; text-decoration-color: #00af00\">0</span>][<span style=\"color: #00af00; text-decoration-color: #00af00\">0</span>], │\n",
       "│ (<span style=\"color: #0087ff; text-decoration-color: #0087ff\">Concatenate</span>)       │                   │            │ dense_8[<span style=\"color: #00af00; text-decoration-color: #00af00\">0</span>][<span style=\"color: #00af00; text-decoration-color: #00af00\">0</span>]     │\n",
       "├─────────────────────┼───────────────────┼────────────┼───────────────────┤\n",
       "│ score (<span style=\"color: #0087ff; text-decoration-color: #0087ff\">Dense</span>)       │ (<span style=\"color: #00d7ff; text-decoration-color: #00d7ff\">None</span>, <span style=\"color: #00af00; text-decoration-color: #00af00\">1</span>)         │         <span style=\"color: #00af00; text-decoration-color: #00af00\">37</span> │ concatenate_2[<span style=\"color: #00af00; text-decoration-color: #00af00\">0</span>]… │\n",
       "└─────────────────────┴───────────────────┴────────────┴───────────────────┘\n",
       "</pre>\n"
      ],
      "text/plain": [
       "┏━━━━━━━━━━━━━━━━━━━━━┳━━━━━━━━━━━━━━━━━━━┳━━━━━━━━━━━━┳━━━━━━━━━━━━━━━━━━━┓\n",
       "┃\u001b[1m \u001b[0m\u001b[1mLayer (type)       \u001b[0m\u001b[1m \u001b[0m┃\u001b[1m \u001b[0m\u001b[1mOutput Shape     \u001b[0m\u001b[1m \u001b[0m┃\u001b[1m \u001b[0m\u001b[1m   Param #\u001b[0m\u001b[1m \u001b[0m┃\u001b[1m \u001b[0m\u001b[1mConnected to     \u001b[0m\u001b[1m \u001b[0m┃\n",
       "┡━━━━━━━━━━━━━━━━━━━━━╇━━━━━━━━━━━━━━━━━━━╇━━━━━━━━━━━━╇━━━━━━━━━━━━━━━━━━━┩\n",
       "│ deep_input          │ (\u001b[38;5;45mNone\u001b[0m, \u001b[38;5;34m16\u001b[0m)        │          \u001b[38;5;34m0\u001b[0m │ -                 │\n",
       "│ (\u001b[38;5;33mInputLayer\u001b[0m)        │                   │            │                   │\n",
       "├─────────────────────┼───────────────────┼────────────┼───────────────────┤\n",
       "│ dense_6 (\u001b[38;5;33mDense\u001b[0m)     │ (\u001b[38;5;45mNone\u001b[0m, \u001b[38;5;34m64\u001b[0m)        │      \u001b[38;5;34m1,088\u001b[0m │ deep_input[\u001b[38;5;34m0\u001b[0m][\u001b[38;5;34m0\u001b[0m]  │\n",
       "├─────────────────────┼───────────────────┼────────────┼───────────────────┤\n",
       "│ dropout_2 (\u001b[38;5;33mDropout\u001b[0m) │ (\u001b[38;5;45mNone\u001b[0m, \u001b[38;5;34m64\u001b[0m)        │          \u001b[38;5;34m0\u001b[0m │ dense_6[\u001b[38;5;34m0\u001b[0m][\u001b[38;5;34m0\u001b[0m]     │\n",
       "├─────────────────────┼───────────────────┼────────────┼───────────────────┤\n",
       "│ dense_7 (\u001b[38;5;33mDense\u001b[0m)     │ (\u001b[38;5;45mNone\u001b[0m, \u001b[38;5;34m32\u001b[0m)        │      \u001b[38;5;34m2,080\u001b[0m │ dropout_2[\u001b[38;5;34m0\u001b[0m][\u001b[38;5;34m0\u001b[0m]   │\n",
       "├─────────────────────┼───────────────────┼────────────┼───────────────────┤\n",
       "│ wide_input          │ (\u001b[38;5;45mNone\u001b[0m, \u001b[38;5;34m20\u001b[0m)        │          \u001b[38;5;34m0\u001b[0m │ -                 │\n",
       "│ (\u001b[38;5;33mInputLayer\u001b[0m)        │                   │            │                   │\n",
       "├─────────────────────┼───────────────────┼────────────┼───────────────────┤\n",
       "│ dense_8 (\u001b[38;5;33mDense\u001b[0m)     │ (\u001b[38;5;45mNone\u001b[0m, \u001b[38;5;34m16\u001b[0m)        │        \u001b[38;5;34m528\u001b[0m │ dense_7[\u001b[38;5;34m0\u001b[0m][\u001b[38;5;34m0\u001b[0m]     │\n",
       "├─────────────────────┼───────────────────┼────────────┼───────────────────┤\n",
       "│ concatenate_2       │ (\u001b[38;5;45mNone\u001b[0m, \u001b[38;5;34m36\u001b[0m)        │          \u001b[38;5;34m0\u001b[0m │ wide_input[\u001b[38;5;34m0\u001b[0m][\u001b[38;5;34m0\u001b[0m], │\n",
       "│ (\u001b[38;5;33mConcatenate\u001b[0m)       │                   │            │ dense_8[\u001b[38;5;34m0\u001b[0m][\u001b[38;5;34m0\u001b[0m]     │\n",
       "├─────────────────────┼───────────────────┼────────────┼───────────────────┤\n",
       "│ score (\u001b[38;5;33mDense\u001b[0m)       │ (\u001b[38;5;45mNone\u001b[0m, \u001b[38;5;34m1\u001b[0m)         │         \u001b[38;5;34m37\u001b[0m │ concatenate_2[\u001b[38;5;34m0\u001b[0m]… │\n",
       "└─────────────────────┴───────────────────┴────────────┴───────────────────┘\n"
      ]
     },
     "metadata": {},
     "output_type": "display_data"
    },
    {
     "data": {
      "text/html": [
       "<pre style=\"white-space:pre;overflow-x:auto;line-height:normal;font-family:Menlo,'DejaVu Sans Mono',consolas,'Courier New',monospace\"><span style=\"font-weight: bold\"> Total params: </span><span style=\"color: #00af00; text-decoration-color: #00af00\">3,733</span> (14.58 KB)\n",
       "</pre>\n"
      ],
      "text/plain": [
       "\u001b[1m Total params: \u001b[0m\u001b[38;5;34m3,733\u001b[0m (14.58 KB)\n"
      ]
     },
     "metadata": {},
     "output_type": "display_data"
    },
    {
     "data": {
      "text/html": [
       "<pre style=\"white-space:pre;overflow-x:auto;line-height:normal;font-family:Menlo,'DejaVu Sans Mono',consolas,'Courier New',monospace\"><span style=\"font-weight: bold\"> Trainable params: </span><span style=\"color: #00af00; text-decoration-color: #00af00\">3,733</span> (14.58 KB)\n",
       "</pre>\n"
      ],
      "text/plain": [
       "\u001b[1m Trainable params: \u001b[0m\u001b[38;5;34m3,733\u001b[0m (14.58 KB)\n"
      ]
     },
     "metadata": {},
     "output_type": "display_data"
    },
    {
     "data": {
      "text/html": [
       "<pre style=\"white-space:pre;overflow-x:auto;line-height:normal;font-family:Menlo,'DejaVu Sans Mono',consolas,'Courier New',monospace\"><span style=\"font-weight: bold\"> Non-trainable params: </span><span style=\"color: #00af00; text-decoration-color: #00af00\">0</span> (0.00 B)\n",
       "</pre>\n"
      ],
      "text/plain": [
       "\u001b[1m Non-trainable params: \u001b[0m\u001b[38;5;34m0\u001b[0m (0.00 B)\n"
      ]
     },
     "metadata": {},
     "output_type": "display_data"
    }
   ],
   "source": [
    "import tensorflow as tf\n",
    "from tensorflow.keras.layers import Input, Dense, Dropout, Concatenate\n",
    "from tensorflow.keras.models import Model\n",
    "\n",
    "# 1) 입력 레이어\n",
    "wide_input = Input(shape=(wide_dim,), name='wide_input')\n",
    "deep_input = Input(shape=(deep_dim,), name='deep_input')\n",
    "\n",
    "# 2) Wide 부분: 선형 모델\n",
    "#    (단순히 그대로 쓰거나 필요 시 Dense 레이어 추가)\n",
    "wide_out = wide_input\n",
    "\n",
    "# 3) Deep 부분: 비선형 학습\n",
    "x = Dense(64, activation='relu')(deep_input)\n",
    "x = Dropout(0.5)(x)\n",
    "x = Dense(32, activation='relu')(x)\n",
    "deep_out = Dense(16, activation='relu')(x)\n",
    "\n",
    "# 4) 결합\n",
    "combined = Concatenate()([wide_out, deep_out])\n",
    "\n",
    "# 5) 최종 출력 (추천 점수 회귀)\n",
    "score_o = Dense(1, activation='linear', name='score')(combined)\n",
    "\n",
    "# 6) 모델 생성 & 컴파일\n",
    "model = Model([wide_input, deep_input], score_o)\n",
    "model.compile(optimizer='adam', loss='mse')\n",
    "model.summary()"
   ]
  },
  {
   "cell_type": "code",
   "execution_count": null,
   "id": "74cf1dae-c6c1-4aed-b598-190cc565dc51",
   "metadata": {},
   "outputs": [],
   "source": []
  },
  {
   "cell_type": "code",
   "execution_count": null,
   "id": "4bf06209-695e-48ad-8b59-9aad2bd93244",
   "metadata": {},
   "outputs": [],
   "source": [
    "# 학습\n",
    "history = model.fit(\n",
    "    {'wide_input': wide_data, 'deep_input': deep_data},\n",
    "    labels,\n",
    "    batch_size=32,\n",
    "    epochs=20,\n",
    "    validation_split=0.2,\n",
    "    verbose=1\n",
    ")"
   ]
  },
  {
   "cell_type": "markdown",
   "id": "cf3087a7-e4e4-4963-9d37-f8a6c432a02a",
   "metadata": {},
   "source": [
    "### content-based 기반 모델 학습"
   ]
  },
  {
   "cell_type": "code",
   "execution_count": 94,
   "id": "3859c47a-57eb-46c4-b611-7d6a6dceaafc",
   "metadata": {},
   "outputs": [],
   "source": [
    "df_nutri_norm = df_nutri.copy()\n",
    "df_nutri_norm[deep_cols] = scaler.fit_transform(df_nutri[deep_cols].fillna(0))"
   ]
  },
  {
   "cell_type": "code",
   "execution_count": 95,
   "id": "07ecc90a-2aa1-4ab5-b845-2008b893d5b0",
   "metadata": {},
   "outputs": [
    {
     "name": "stdout",
     "output_type": "stream",
     "text": [
      "       protein_g     fat_g  carbohydrate_g   sugar_g  dietary_fiber_g  \\\n",
      "id                                                                      \n",
      "1       0.042230  0.019259        0.170879  0.020704         0.032154   \n",
      "2       0.060811  0.042861        0.036264  0.005394         0.012862   \n",
      "3       0.059122  0.170721        0.293077  0.074012         0.019293   \n",
      "4       0.089527  0.144802        0.205385  0.028796         0.057878   \n",
      "5       0.091047  0.040689        0.285495  0.022450         0.057878   \n",
      "...          ...       ...             ...       ...              ...   \n",
      "14580   0.065878  0.016507        0.279890  0.002697         0.032154   \n",
      "14581   0.053547  0.013322        0.239560  0.002459         0.025723   \n",
      "14582   0.045608  0.018679        0.234396  0.006901         0.025723   \n",
      "14583   0.038851  0.005502        0.284725  0.001428         0.022508   \n",
      "14584   0.015203  0.004199        0.018242  0.002459         0.028939   \n",
      "\n",
      "       calcium_mg   iron_mg  sodium_mg  vitamin_a_rae_ug  vitamin_b_rda_mg  \\\n",
      "id                                                                           \n",
      "1        0.002552  0.006028   0.018622          0.000000          0.064103   \n",
      "2        0.002233  0.007801   0.016494          0.003231          0.038462   \n",
      "3        0.011164  0.016312   0.015829          0.016799          0.051282   \n",
      "4        0.006061  0.021277   0.042698          0.008615          0.089744   \n",
      "5        0.006699  0.014539   0.045890          0.000646          0.064103   \n",
      "...           ...       ...        ...               ...               ...   \n",
      "14580    0.004147  0.012411   0.014898          0.001508          0.064103   \n",
      "14581    0.004147  0.020567   0.015297          0.001723          0.076923   \n",
      "14582    0.002233  0.016667   0.008380          0.004523          0.051282   \n",
      "14583    0.000638  0.003901   0.000133          0.000000          0.025641   \n",
      "14584    0.004466  0.007801   0.030859          0.008830          0.051282   \n",
      "\n",
      "       vitamin_c_mg  vitamin_d_ug  cholesterol_mg  saturated_fat_g  \\\n",
      "id                                                                   \n",
      "1          0.006745      0.000000        0.000000         0.026000   \n",
      "2          0.007928      0.000481        0.018319         0.027667   \n",
      "3          0.000000      0.000000        0.054347         0.191667   \n",
      "4          0.044728      0.000000        0.016756         0.114000   \n",
      "5          0.044018      0.001203        0.009699         0.020333   \n",
      "...             ...           ...             ...              ...   \n",
      "14580      0.004260      0.000000        0.002287         0.009667   \n",
      "14581      0.006626      0.000000        0.001195         0.006667   \n",
      "14582      0.021181      0.000000        0.002586         0.008333   \n",
      "14583      0.000000      0.000000        0.000000         0.003333   \n",
      "14584      0.009230      0.000000        0.000011         0.001667   \n",
      "\n",
      "       trans_fat_g  \n",
      "id                  \n",
      "1              0.0  \n",
      "2              0.0  \n",
      "3              0.0  \n",
      "4              0.0  \n",
      "5              0.0  \n",
      "...            ...  \n",
      "14580          0.0  \n",
      "14581          0.0  \n",
      "14582          0.0  \n",
      "14583          0.0  \n",
      "14584          0.0  \n",
      "\n",
      "[14584 rows x 15 columns]\n"
     ]
    }
   ],
   "source": [
    "print(df_nutri_norm)"
   ]
  },
  {
   "cell_type": "markdown",
   "id": "b8ecba58-fc5b-46da-b00c-d054189cb7a2",
   "metadata": {},
   "source": [
    "# 추천알고리즘 메서드"
   ]
  },
  {
   "cell_type": "code",
   "execution_count": 83,
   "id": "4ee9e591-1581-436b-8fc5-b736e0003e36",
   "metadata": {},
   "outputs": [],
   "source": [
    "def get_recommendations(def_vec, top_n=5):\n",
    "    \"\"\"\n",
    "    def_vec : 1d array, deep_cols 순서대로 0~1 결핍도\n",
    "    \"\"\"\n",
    "    X = df_nutri_norm[deep_cols].values         # (num_foods, D)\n",
    "    #  하나: 절대량 보충 점수\n",
    "    wsum = X.dot(def_vec)                       # (num_foods,)\n",
    "    # 둘: 코사인 유사도 (비율 보충 점수)\n",
    "    cos_sim = cosine_similarity(X, def_vec.reshape(1,-1)).flatten()\n",
    "    # 혼합 점수\n",
    "    score = wsum * cos_sim\n",
    "\n",
    "    # top_n 인덱스\n",
    "    idx = np.argsort(-score)[:top_n]\n",
    "\n",
    "     # 1) 점수만 있는 중간 DataFrame 생성\n",
    "    recs = pd.DataFrame({\n",
    "        'id':           df_nutri.index[idx],\n",
    "        'score':        score[idx],\n",
    "        'weighted_sum': wsum[idx],\n",
    "        'cosine_sim':   cos_sim[idx]\n",
    "    }).set_index('id')\n",
    "    \n",
    "     # 2) 메타(df_meta)와 join\n",
    "    recs = recs.join(df_meta, how='left')\n",
    "\n",
    "    # 3) 최종 반환 순서 정리\n",
    "    return recs[[\n",
    "        'food_name','serving_size',\n",
    "        'score','weighted_sum','cosine_sim'\n",
    "    ]]"
   ]
  },
  {
   "cell_type": "code",
   "execution_count": 84,
   "id": "3bb830a3-5d2d-47e9-a196-26a1ee67f4ff",
   "metadata": {},
   "outputs": [
    {
     "name": "stdout",
     "output_type": "stream",
     "text": [
      "[0.37454012 0.95071431 0.73199394 0.59865848 0.15601864 0.15599452\n",
      " 0.05808361 0.86617615 0.60111501 0.70807258 0.02058449 0.96990985\n",
      " 0.83244264 0.21233911 0.18182497 0.18340451]\n"
     ]
    }
   ],
   "source": [
    "import numpy as np\n",
    "from sklearn.metrics.pairwise import cosine_similarity\n",
    "\n",
    "np.random.seed(42)\n",
    "example_def = np.random.rand(len(deep_cols))\n",
    "print(example_def)"
   ]
  },
  {
   "cell_type": "code",
   "execution_count": 103,
   "id": "b420e2af-4ee5-4583-afaa-c562a9a04e15",
   "metadata": {},
   "outputs": [
    {
     "name": "stdout",
     "output_type": "stream",
     "text": [
      "       food_name serving_size  energy_kcal  sodium_mg\n",
      "id                                                   \n",
      "1        토스트(식빵)        230.3         84.0      140.0\n",
      "2      트위스터 샌드위치        380.6         56.0      124.0\n",
      "3         파운드케이크        170ml        226.0      119.0\n",
      "4          햄샌드위치        207ml        185.0      321.0\n",
      "5            간자장        800ml        155.0      345.0\n",
      "...          ...          ...          ...        ...\n",
      "14580   콩나물밥_소고기        440ml        131.0      112.0\n",
      "14581   콩나물밥_양념장        450ml        110.0      115.0\n",
      "14582      하이라이스        607.4        111.0       63.0\n",
      "14583        현미밥        370ml        121.0        1.0\n",
      "14584     근대 된장국        320ml         12.0      232.0\n",
      "\n",
      "[14584 rows x 4 columns]\n"
     ]
    }
   ],
   "source": [
    "# 추천 전 준비 단계\n",
    "df_meta = pd.read_sql_query(\n",
    "    \"SELECT id, food_name, serving_size, energy_kcal, sodium_mg FROM food_nutrition\",\n",
    "    ENGINE\n",
    ").set_index('id')\n",
    "\n",
    "print(df_meta)"
   ]
  },
  {
   "cell_type": "code",
   "execution_count": 85,
   "id": "685d3f9f-bd7f-4365-ba2b-df734d755e26",
   "metadata": {},
   "outputs": [
    {
     "name": "stdout",
     "output_type": "stream",
     "text": [
      "=== 추천 TOP5 ===\n",
      "      food_name serving_size     score  weighted_sum  cosine_sim\n",
      "id                                                              \n",
      "5652       굴비구이        52.5m  2.034477      2.888823    0.704258\n",
      "11181   김구이_조미김           5g  2.023772      2.724535    0.742796\n",
      "13955      굴비구이        52.5m  1.633319      2.476985    0.659398\n",
      "10646      멸치조림         100g  1.268011      2.010898    0.630569\n",
      "3922      뱅어포튀김        10.2m  1.166006      2.096209    0.556245\n"
     ]
    }
   ],
   "source": [
    "top5 = get_recommendations(example_def, top_n=5)\n",
    "print(\"=== 추천 TOP5 ===\")\n",
    "print(top5)"
   ]
  },
  {
   "cell_type": "markdown",
   "id": "8cf86695-e970-4d97-9256-e3182e71bd42",
   "metadata": {},
   "source": [
    "### 결핍 시나리오 테스트"
   ]
  },
  {
   "cell_type": "code",
   "execution_count": 86,
   "id": "6be67f9e-7cae-476c-b7b8-ba5db85defc8",
   "metadata": {},
   "outputs": [
    {
     "name": "stdout",
     "output_type": "stream",
     "text": [
      "         scenario     id      food_name serving_size     score\n",
      "0       단백질 결핍 심함  11181        김구이_조미김           5g  1.413463\n",
      "1       단백질 결핍 심함  13873           미역튀각        15.3m  1.394755\n",
      "2       단백질 결핍 심함  10667          다시마튀각          50g  1.356739\n",
      "3       단백질 결핍 심함  10671           미역튀각          50g  1.260754\n",
      "4       단백질 결핍 심함  10646           멸치조림         100g  1.163926\n",
      "5      비타민C 결핍 심함  11181        김구이_조미김           5g  1.995466\n",
      "6      비타민C 결핍 심함  10667          다시마튀각          50g  1.710094\n",
      "7      비타민C 결핍 심함  10646           멸치조림         100g  1.560006\n",
      "8      비타민C 결핍 심함  13873           미역튀각        15.3m  1.483151\n",
      "9      비타민C 결핍 심함   5652           굴비구이        52.5m  1.458918\n",
      "10       전체 균형 결핍  10646           멸치조림         100g  1.958964\n",
      "11       전체 균형 결핍  11181        김구이_조미김           5g  1.948133\n",
      "12       전체 균형 결핍   5652           굴비구이        52.5m  1.869237\n",
      "13       전체 균형 결핍  13873           미역튀각        15.3m  1.798225\n",
      "14       전체 균형 결핍  10667          다시마튀각          50g  1.780232\n",
      "15  칼로리 과다(결핍 없음)      1        토스트(식빵)        230.3  0.000000\n",
      "16  칼로리 과다(결핍 없음)   9716      버거_슈림프 버거         173g  0.000000\n",
      "17  칼로리 과다(결핍 없음)   9717  버거_스콜쳐 버거 플러스         292g  0.000000\n",
      "18  칼로리 과다(결핍 없음)   9718  버거_스파이시치킨 스낵랩         112g  0.000000\n",
      "19  칼로리 과다(결핍 없음)   9719  버거_아라비아따치즈 버거         309g  0.000000\n",
      "20      섬유질 강조 결핍  11181        김구이_조미김           5g  1.962301\n",
      "21      섬유질 강조 결핍  10667          다시마튀각          50g  1.867988\n",
      "22      섬유질 강조 결핍  13873           미역튀각        15.3m  1.856216\n",
      "23      섬유질 강조 결핍  10671           미역튀각          50g  1.819942\n",
      "24      섬유질 강조 결핍  10646           멸치조림         100g  1.761466\n",
      "         scenario      food_name     score\n",
      "0       단백질 결핍 심함        김구이_조미김  1.413463\n",
      "1       단백질 결핍 심함          다시마튀각  1.356739\n",
      "2       단백질 결핍 심함           멸치조림  1.163926\n",
      "3       단백질 결핍 심함           미역튀각  1.394755\n",
      "4      비타민C 결핍 심함           굴비구이  1.458918\n",
      "5      비타민C 결핍 심함        김구이_조미김  1.995466\n",
      "6      비타민C 결핍 심함          다시마튀각  1.710094\n",
      "7      비타민C 결핍 심함           멸치조림  1.560006\n",
      "8      비타민C 결핍 심함           미역튀각  1.483151\n",
      "9       섬유질 강조 결핍        김구이_조미김  1.962301\n",
      "10      섬유질 강조 결핍          다시마튀각  1.867988\n",
      "11      섬유질 강조 결핍           멸치조림  1.761466\n",
      "12      섬유질 강조 결핍           미역튀각  1.856216\n",
      "13       전체 균형 결핍           굴비구이  1.869237\n",
      "14       전체 균형 결핍        김구이_조미김  1.948133\n",
      "15       전체 균형 결핍          다시마튀각  1.780232\n",
      "16       전체 균형 결핍           멸치조림  1.958964\n",
      "17       전체 균형 결핍           미역튀각  1.798225\n",
      "18  칼로리 과다(결핍 없음)      버거_슈림프 버거  0.000000\n",
      "19  칼로리 과다(결핍 없음)  버거_스콜쳐 버거 플러스  0.000000\n",
      "20  칼로리 과다(결핍 없음)  버거_스파이시치킨 스낵랩  0.000000\n",
      "21  칼로리 과다(결핍 없음)  버거_아라비아따치즈 버거  0.000000\n",
      "22  칼로리 과다(결핍 없음)        토스트(식빵)  0.000000\n"
     ]
    }
   ],
   "source": [
    "# 0) 기존 코드에 정의된 deep_cols, df_nutri_norm, df_meta, get_recommendations() 가 있다고 가정\n",
    "\n",
    "import pandas as pd\n",
    "import numpy as np\n",
    "\n",
    "# 1) 다양한 결핍 시나리오 정의\n",
    "#    – 실제론 설문·로그에서 계산된 결핍 벡터지만, 여기선 예시로 직접 만들어 봅니다.\n",
    "scenarios = {\n",
    "    '단백질 결핍 심함':    np.array([0.2, 0.1, 0.9] + [0.5]*(len(deep_cols)-3)),\n",
    "    '비타민C 결핍 심함':  np.array([0.5]*deep_cols.index('vitamin_c_mg') + \\\n",
    "                                     [0.9] + \\\n",
    "                                     [0.5]*(len(deep_cols)-deep_cols.index('vitamin_c_mg')-1)),\n",
    "    '전체 균형 결핍':      np.full(len(deep_cols), 0.6),\n",
    "    '칼로리 과다(결핍 없음)': np.zeros(len(deep_cols)),\n",
    "    '섬유질 강조 결핍':    np.array([0.5]*deep_cols.index('dietary_fiber_g') + \\\n",
    "                                     [0.9] + \\\n",
    "                                     [0.5]*(len(deep_cols)-deep_cols.index('dietary_fiber_g')-1))\n",
    "}\n",
    "\n",
    "# 2) 각 시나리오별로 Top5 추천 뽑아서 DataFrame으로 정리\n",
    "results = []\n",
    "for name, vec in scenarios.items():\n",
    "    recs = get_recommendations(vec, top_n=5)\n",
    "    recs = recs.reset_index()  # id를 컬럼으로 올리기\n",
    "    recs['scenario'] = name\n",
    "    # 필요한 컬럼만 추려서 results에 추가\n",
    "    results.append(recs[['scenario','id','food_name','serving_size','score']])\n",
    "\n",
    "# 3) 모두 합치고 보기\n",
    "df_results = pd.concat(results, ignore_index=True)\n",
    "print(df_results)\n",
    "\n",
    "# 4) (선택) 보기 좋게 피벗 테이블로 정리\n",
    "pivot = df_results.pivot_table(\n",
    "    index=['scenario','food_name'], \n",
    "    values='score', \n",
    "    aggfunc='first'\n",
    ").reset_index()\n",
    "print(pivot)"
   ]
  },
  {
   "cell_type": "code",
   "execution_count": 105,
   "id": "c6d3c57d-a352-42e5-8c63-ab46064f0831",
   "metadata": {},
   "outputs": [],
   "source": [
    "import numpy as np\n",
    "import pandas as pd\n",
    "from sklearn.metrics.pairwise import cosine_similarity\n",
    "\n",
    "# --- 하이퍼파라미터 설정 ---\n",
    "MAX_CAL      = 500    # 1회 제공 시 최대 권장 칼로리\n",
    "MAX_SODIUM   = 600    # 1회 제공 시 최대 권장 나트륨 (mg)\n",
    "ALPHA, BETA  = 0.6, 0.4\n",
    "\n",
    "\n",
    "def get_recommendations(def_vec: np.ndarray, top_n: int = 5):\n",
    "    \"\"\"\n",
    "    def_vec : 1d array (D,), deep_cols 순서대로 0~1 결핍도\n",
    "    \"\"\"\n",
    "    # 1) 영양 벡터와 메타 가져오기\n",
    "    X      = df_nutri_norm[deep_cols].values         # (N_foods, D)\n",
    "    meta   = df_meta[['food_name','serving_size','energy_kcal','sodium_mg']]  # pandas.DataFrame\n",
    "    \n",
    "    # 2) 원점수 계산\n",
    "    wsum    =         X.dot(def_vec)                          # (N_foods,)\n",
    "    cos_sim = cosine_similarity(X, def_vec.reshape(1,-1)).ravel()  # (N_foods,)\n",
    "    \n",
    "    # 3) 0~1 정규화\n",
    "    wsum_n  = (wsum    - wsum.min()) / (wsum.max()   - wsum.min()   + 1e-9)\n",
    "    cos_n   = (cos_sim - cos_sim.min()) / (cos_sim.max() - cos_sim.min() + 1e-9)\n",
    "    \n",
    "    # 4) 기본 점수 (선형 결합)\n",
    "    base_score = ALPHA * wsum_n + BETA * cos_n              # (N_foods,)\n",
    "    \n",
    "    # 5) 페널티 (칼로리·나트륨 초과 시 0)\n",
    "    pen_cal   = np.clip(1 - meta['energy_kcal'].values / MAX_CAL, 0, 1)\n",
    "    pen_sod   = np.clip(1 - meta['sodium_mg'].values   / MAX_SODIUM, 0, 1)\n",
    "    penalty   = pen_cal * pen_sod                          # (N_foods,)\n",
    "    \n",
    "    # 6) 최종 스코어\n",
    "    final_score = base_score * penalty                      # (N_foods,)\n",
    "    \n",
    "    # 7) 상위 top_n 인덱스\n",
    "    idx = np.argsort(-final_score)[:top_n]\n",
    "    \n",
    "    # 8) 결과 DataFrame 구성\n",
    "    recs = pd.DataFrame({\n",
    "        'score':        final_score[idx],\n",
    "        'wsum_norm':    wsum_n[idx],\n",
    "        'cos_norm':     cos_n[idx],\n",
    "        'penalty':      penalty[idx],\n",
    "    }, index=df_nutri_norm.index[idx])\n",
    "    \n",
    "    # 9) 메타와 병합\n",
    "    recs = recs.join(meta, how='left')\n",
    "    \n",
    "    # 10) 반환할 컬럼 순서\n",
    "    return recs[[\n",
    "        'food_name','serving_size',\n",
    "        'score','wsum_norm','cos_norm','penalty',\n",
    "        'energy_kcal','sodium_mg'\n",
    "    ]]\n"
   ]
  },
  {
   "cell_type": "code",
   "execution_count": 109,
   "id": "9b2016bf-f8e5-4307-8349-439106be98ac",
   "metadata": {},
   "outputs": [
    {
     "data": {
      "text/plain": [
       "Index(['protein_g', 'fat_g', 'carbohydrate_g', 'sugar_g', 'dietary_fiber_g',\n",
       "       'calcium_mg', 'iron_mg', 'sodium_mg', 'vitamin_a_rae_ug',\n",
       "       'vitamin_b_rda_mg', 'vitamin_c_mg', 'vitamin_d_ug', 'cholesterol_mg',\n",
       "       'saturated_fat_g', 'trans_fat_g'],\n",
       "      dtype='object')"
      ]
     },
     "execution_count": 109,
     "metadata": {},
     "output_type": "execute_result"
    }
   ],
   "source": [
    "df_nutri_norm.columns"
   ]
  },
  {
   "cell_type": "code",
   "execution_count": 111,
   "id": "baf3b129-a1b7-43af-b568-2d795ae083b2",
   "metadata": {},
   "outputs": [
    {
     "name": "stdout",
     "output_type": "stream",
     "text": [
      "단백질 결핍 심함 [1.  0.5 0.5 0.5 0.5 0.5 0.5 0.5 0.5 0.5 0.5 0.5 0.5 0.5 0.5]\n",
      "비타민C 결핍 심함 [0.5 0.5 0.5 0.5 0.5 0.5 0.5 0.5 0.5 0.5 1.  0.5 0.5 0.5 0.5]\n",
      "전체 균형 결핍 [0.6 0.6 0.6 0.6 0.6 0.6 0.6 0.6 0.6 0.6 0.6 0.6 0.6 0.6 0.6]\n",
      "칼로리 과다(결핍 없음) [0. 0. 0. 0. 0. 0. 0. 0. 0. 0. 0. 0. 0. 0. 0.]\n",
      "섬유질 강조 결핍 [0.5 0.5 0.5 0.5 1.  0.5 0.5 0.5 0.5 0.5 0.5 0.5 0.5 0.5 0.5]\n"
     ]
    }
   ],
   "source": [
    "import numpy as np\n",
    "\n",
    "# 1) 현재 deep_cols 순서\n",
    "deep_cols = [\n",
    "    'protein_g', 'fat_g', 'carbohydrate_g', 'sugar_g', 'dietary_fiber_g',\n",
    "    'calcium_mg', 'iron_mg', 'sodium_mg', 'vitamin_a_rae_ug',\n",
    "    'vitamin_b_rda_mg', 'vitamin_c_mg', 'vitamin_d_ug',\n",
    "    'cholesterol_mg', 'saturated_fat_g', 'trans_fat_g'\n",
    "]\n",
    "D = len(deep_cols)\n",
    "base_val = 0.5  # 기본 결핍도\n",
    "\n",
    "# 2) 시나리오별 결핍 벡터 생성\n",
    "# — 단백질 결핍 심함\n",
    "vec_p = np.full(D, base_val)\n",
    "vec_p[deep_cols.index('protein_g')] = 1.0\n",
    "\n",
    "# — 비타민 C 결핍 심함\n",
    "vec_c = np.full(D, base_val)\n",
    "vec_c[deep_cols.index('vitamin_c_mg')] = 1.0\n",
    "\n",
    "# — 전체 균형 결핍\n",
    "vec_bal = np.full(D, 0.6)\n",
    "\n",
    "# — 칼로리 과다 (결핍 없음)\n",
    "vec_none = np.zeros(D)\n",
    "\n",
    "# — 섬유질 강조 결핍\n",
    "vec_f = np.full(D, base_val)\n",
    "vec_f[deep_cols.index('dietary_fiber_g')] = 1.0\n",
    "\n",
    "# 3) 딕셔너리로 모아서\n",
    "scenarios = {\n",
    "    '단백질 결핍 심함':       vec_p,\n",
    "    '비타민C 결핍 심함':     vec_c,\n",
    "    '전체 균형 결핍':         vec_bal,\n",
    "    '칼로리 과다(결핍 없음)': vec_none,\n",
    "    '섬유질 강조 결핍':       vec_f\n",
    "}\n",
    "\n",
    "# 4) 확인\n",
    "for name, vec in scenarios.items():\n",
    "    print(name, vec)"
   ]
  },
  {
   "cell_type": "code",
   "execution_count": 112,
   "id": "09a5bd15-45f0-4718-9a32-70f1ca629d44",
   "metadata": {},
   "outputs": [
    {
     "name": "stdout",
     "output_type": "stream",
     "text": [
      "         scenario     id      food_name serving_size     score\n",
      "0       단백질 결핍 심함    399         돼지고기_간         100g  0.378471\n",
      "1       단백질 결핍 심함  11098         미역국_새우         400g  0.352636\n",
      "2       단백질 결핍 심함   5891           불낙전골        276.3  0.348147\n",
      "3       단백질 결핍 심함   4208           불낙전골        276.3  0.348147\n",
      "4       단백질 결핍 심함   4033            유산슬        136.3  0.344998\n",
      "5      비타민C 결핍 심함   3489          돌나물무침        45.1m  0.387736\n",
      "6      비타민C 결핍 심함   4587           오이무침        108.2  0.373637\n",
      "7      비타민C 결핍 심함  13804           오이무침        108.2  0.373637\n",
      "8      비타민C 결핍 심함   4501           딸기넥타        355ml  0.364634\n",
      "9      비타민C 결핍 심함  14200      딸기바나나 스무디        355ml  0.364527\n",
      "10       전체 균형 결핍    399         돼지고기_간         100g  0.382063\n",
      "11       전체 균형 결핍  11098         미역국_새우         400g  0.359136\n",
      "12       전체 균형 결핍   4499        두유 카페라떼        355ml  0.348265\n",
      "13       전체 균형 결핍   4477           카페라떼        355ml  0.342021\n",
      "14       전체 균형 결핍    150     커피_카라멜마끼아토         100g  0.340378\n",
      "15  칼로리 과다(결핍 없음)      1        토스트(식빵)        230.3  0.000000\n",
      "16  칼로리 과다(결핍 없음)   9716      버거_슈림프 버거         173g  0.000000\n",
      "17  칼로리 과다(결핍 없음)   9717  버거_스콜쳐 버거 플러스         292g  0.000000\n",
      "18  칼로리 과다(결핍 없음)   9718  버거_스파이시치킨 스낵랩         112g  0.000000\n",
      "19  칼로리 과다(결핍 없음)   9719  버거_아라비아따치즈 버거         309g  0.000000\n",
      "20      섬유질 강조 결핍  11098         미역국_새우         400g  0.357661\n",
      "21      섬유질 강조 결핍  10894        참나물 겉절이         50ml  0.330007\n",
      "22      섬유질 강조 결핍  14232        참나물 겉절이         50ml  0.330007\n",
      "23      섬유질 강조 결핍   4595        참나물 겉절이         50ml  0.330007\n",
      "24      섬유질 강조 결핍   3809        참나물 겉절이         50ml  0.330007\n"
     ]
    }
   ],
   "source": [
    "# 0) 기존 코드에 정의된 deep_cols, df_nutri_norm, df_meta, get_recommendations() 가 있다고 가정\n",
    "\n",
    "import pandas as pd\n",
    "import numpy as np\n",
    "\n",
    "# 1) 각 시나리오별로 Top5 추천 뽑아서 DataFrame으로 정리\n",
    "results = []\n",
    "for name, vec in scenarios.items():\n",
    "    recs = get_recommendations(vec, top_n=5)\n",
    "    recs = recs.reset_index()  # id를 컬럼으로 올리기\n",
    "    recs['scenario'] = name\n",
    "    # 필요한 컬럼만 추려서 results에 추가\n",
    "    results.append(recs[['scenario','id','food_name','serving_size','score']])\n",
    "\n",
    "# 2) 모두 합치고 보기\n",
    "df_results = pd.concat(results, ignore_index=True)\n",
    "print(df_results)"
   ]
  },
  {
   "cell_type": "code",
   "execution_count": null,
   "id": "9773a1ef-7874-48ed-bd91-ac0d099fdfa3",
   "metadata": {},
   "outputs": [],
   "source": []
  }
 ],
 "metadata": {
  "kernelspec": {
   "display_name": "Python 3 (ipykernel)",
   "language": "python",
   "name": "python3"
  },
  "language_info": {
   "codemirror_mode": {
    "name": "ipython",
    "version": 3
   },
   "file_extension": ".py",
   "mimetype": "text/x-python",
   "name": "python",
   "nbconvert_exporter": "python",
   "pygments_lexer": "ipython3",
   "version": "3.12.4"
  }
 },
 "nbformat": 4,
 "nbformat_minor": 5
}
